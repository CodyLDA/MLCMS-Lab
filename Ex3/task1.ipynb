{
 "cells": [
  {
   "cell_type": "markdown",
   "metadata": {},
   "source": [
    "## Task1"
   ]
  },
  {
   "cell_type": "code",
   "execution_count": null,
   "metadata": {},
   "outputs": [],
   "source": [
    "import numpy as np\n",
    "import matplotlib.pyplot as plt\n",
    "import matplotlib.gridspec as gridspec"
   ]
  },
  {
   "cell_type": "code",
   "execution_count": null,
   "metadata": {},
   "outputs": [],
   "source": [
    "def flow_rate(A,x_1,x_2):\n",
    "    \"\"\"Flow rate.\n",
    "    \n",
    "    \"\"\"\n",
    "    x=np.array([x_1,x_2])\n",
    "    # flow rate, depends on matrix A and x\n",
    "    x_dot=np.dot(A,x)\n",
    "    return x_dot"
   ]
  },
  {
   "cell_type": "code",
   "execution_count": null,
   "metadata": {},
   "outputs": [],
   "source": [
    "def A(alpha):\n",
    "    \"\"\"Parametrized matrix A \n",
    "    \"\"\"\n",
    "    # A is defined in terms of parameter alpha\n",
    "    A_matrix=np.array([[alpha,alpha],\n",
    "               [-1/4,0]])\n",
    "    return A_matrix"
   ]
  },
  {
   "cell_type": "code",
   "execution_count": null,
   "metadata": {},
   "outputs": [],
   "source": [
    "# -0.1 saddle\n",
    "# 0.5 focus unstable\n",
    "# 0.1 focus stable \n",
    "# for unstable node : a11 = 0, a12 = 1, a21 = -1, a22 = 3\n",
    "# for stable node : a11 = 0, a12 = 1, a21 = -1, a22 = -3\n",
    "\n",
    "def dynamical_model_linear_saddle(X, alpha= -0.1):\n",
    "    x1, x2 = X\n",
    "    dx1dt= alpha * x1 + alpha * x2\n",
    "    dx2dt= -0.25 * x1 \n",
    "    return [dx1dt,dx2dt]\n",
    "\n",
    "def dynamical_model_linear_focus_unstable(X, alpha= 0.5):\n",
    "    x1, x2 = X\n",
    "    dx1dt= alpha * x1 + alpha * x2\n",
    "    dx2dt= -0.25 * x1 \n",
    "    return [dx1dt,dx2dt]\n",
    "\n",
    "def dynamical_model_linear_focus_stable(X, alpha= 0.1):\n",
    "    x1, x2 = X\n",
    "    dx1dt= alpha * x1 + alpha * x2\n",
    "    dx2dt= -0.25 * x1 \n",
    "    return [dx1dt,dx2dt]\n",
    "\n",
    "def dynamical_model_linear_node_unstable(X, alpha= 1):\n",
    "    x1, x2 = X\n",
    "    dx1dt= alpha * x2\n",
    "    dx2dt= -1 * x1 + 3 * x2\n",
    "    return [dx1dt,dx2dt]\n",
    "\n",
    "def dynamical_model_linear_node_stable(X, alpha= 1):\n",
    "    x1, x2 = X\n",
    "    dx1dt= alpha * x2\n",
    "    dx2dt= -1 * x1 + -3 * x2\n",
    "    return [dx1dt,dx2dt]"
   ]
  },
  {
   "cell_type": "markdown",
   "metadata": {},
   "source": [
    "### dynamical_model_linear_saddle"
   ]
  },
  {
   "cell_type": "code",
   "execution_count": null,
   "metadata": {},
   "outputs": [],
   "source": [
    "alpha=-0.1\n",
    "w = 10\n",
    "X2, X1 = np.mgrid[-w:w:100j, -w:w:100j] # look into what it does\n",
    "#print(X1,X2)\n",
    "#print(\"\\n\\n\\n\")\n",
    "#print(X1.T,X2.T)\n",
    "U=alpha*X1+alpha*X2\n",
    "V=-0.25*X1\n",
    "#U,V=flow_rate(A(alpha),X_1,X_2)\n",
    "plt.streamplot(X1, X2, U,V,density=[0.5, 1])"
   ]
  },
  {
   "cell_type": "markdown",
   "metadata": {},
   "source": [
    "### dynamical_model_linear_focus_unstable"
   ]
  },
  {
   "cell_type": "code",
   "execution_count": null,
   "metadata": {},
   "outputs": [],
   "source": [
    "alpha=0.5\n",
    "w = 1\n",
    "X2, X1 = np.mgrid[-w:w:100j, -w:w:100j] # look into what it does\n",
    "#print(X1,X2)\n",
    "#print(\"\\n\\n\\n\")\n",
    "#print(X1.T,X2.T)\n",
    "U=alpha*X1+alpha*X2\n",
    "V=-0.25*X1\n",
    "#U,V=flow_rate(A(alpha),X_1,X_2)\n",
    "plt.streamplot(X1, X2, U,V,density=[0.5, 1])"
   ]
  },
  {
   "cell_type": "markdown",
   "metadata": {},
   "source": [
    "### dynamical_model_linear_focus_stable"
   ]
  },
  {
   "cell_type": "code",
   "execution_count": null,
   "metadata": {},
   "outputs": [],
   "source": [
    "alpha=0.1\n",
    "w = 1\n",
    "X2, X1 = np.mgrid[-w:w:100j, -w:w:100j] # look into what it does\n",
    "#print(X1,X2)\n",
    "#print(\"\\n\\n\\n\")\n",
    "#print(X1.T,X2.T)\n",
    "U=alpha*X1+alpha*X2\n",
    "V=-0.25*X1\n",
    "#U,V=flow_rate(A(alpha),X_1,X_2)\n",
    "plt.streamplot(X1, X2, U,V,density=[0.5, 1])"
   ]
  },
  {
   "cell_type": "markdown",
   "metadata": {},
   "source": [
    "### dynamical_model_linear_node_unstable"
   ]
  },
  {
   "cell_type": "code",
   "execution_count": null,
   "metadata": {},
   "outputs": [],
   "source": [
    "alpha=1\n",
    "w = 1\n",
    "X2, X1 = np.mgrid[-w:w:100j, -w:w:100j] # look into what it does\n",
    "#print(X1,X2)\n",
    "#print(\"\\n\\n\\n\")\n",
    "#print(X1.T,X2.T)\n",
    "\n",
    "U=alpha* X2\n",
    "V=-1*X1+3*X2\n",
    "#U,V=flow_rate(A(alpha),X_1,X_2)\n",
    "plt.streamplot(X1, X2, U,V,density=[0.5, 1])"
   ]
  },
  {
   "cell_type": "markdown",
   "metadata": {},
   "source": [
    "### dynamical_model_linear_node_stable"
   ]
  },
  {
   "cell_type": "code",
   "execution_count": null,
   "metadata": {},
   "outputs": [],
   "source": [
    "alpha=1.0\n",
    "w = 1\n",
    "X2, X1 = np.mgrid[-w:w:100j, -w:w:100j] # look into what it does\n",
    "#print(X1,X2)\n",
    "#print(\"\\n\\n\\n\")\n",
    "#print(X1.T,X2.T)\n",
    "U=alpha* X2\n",
    "V=-1*X1-3*X2\n",
    "#U,V=flow_rate(A(alpha),X_1,X_2)\n",
    "plt.streamplot(X1, X2, U,V,density=[0.5, 1])"
   ]
  },
  {
   "cell_type": "code",
   "execution_count": null,
   "metadata": {},
   "outputs": [],
   "source": []
  },
  {
   "cell_type": "code",
   "execution_count": null,
   "metadata": {},
   "outputs": [],
   "source": []
  }
 ],
 "metadata": {
  "kernelspec": {
   "display_name": "Python 3",
   "language": "python",
   "name": "python3"
  },
  "language_info": {
   "codemirror_mode": {
    "name": "ipython",
    "version": 3
   },
   "file_extension": ".py",
   "mimetype": "text/x-python",
   "name": "python",
   "nbconvert_exporter": "python",
   "pygments_lexer": "ipython3",
   "version": "3.7.4"
  }
 },
 "nbformat": 4,
 "nbformat_minor": 4
}
