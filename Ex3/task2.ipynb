{
  "nbformat": 4,
  "nbformat_minor": 0,
  "metadata": {
    "colab": {
      "name": "task2.ipynb",
      "provenance": [],
      "collapsed_sections": []
    },
    "kernelspec": {
      "name": "python3",
      "display_name": "Python 3"
    }
  },
  "cells": [
    {
      "cell_type": "code",
      "metadata": {
        "id": "CXW5B19h_fb5"
      },
      "source": [
        "import numpy as np\r\n",
        "import matplotlib.pyplot as plt\r\n",
        "from scipy.optimize import fsolve"
      ],
      "execution_count": 1,
      "outputs": []
    },
    {
      "cell_type": "code",
      "metadata": {
        "id": "0qPJWEy5hMES"
      },
      "source": [
        "# setting the model that is encountered\n",
        "def dynamical_model1(x, alpha):\n",
        "    return alpha - (x ** 2)\n",
        "  \n",
        "def dynamical_model2(x, alpha):\n",
        "    return alpha - 2 * (x **2) - 3"
      ],
      "execution_count": 2,
      "outputs": []
    },
    {
      "cell_type": "code",
      "metadata": {
        "id": "g9ESchXp6evs"
      },
      "source": [
        "# setting the jacobians of the models respectively\r\n",
        "def jacobian_model1(x):\r\n",
        "    return -2 * x\r\n",
        "\r\n",
        "def jacobian_model2(x):\r\n",
        "    return -4 * x"
      ],
      "execution_count": 3,
      "outputs": []
    },
    {
      "cell_type": "code",
      "metadata": {
        "id": "47JJPbfm7S33"
      },
      "source": [
        "def stability(jacobian, point):\r\n",
        "    \"\"\"\r\n",
        "    Getting the Jacobian of the model and having a look at the eigenvalues of\r\n",
        "    the model. The encountered models are all 1D, hence the Jacobian is the\r\n",
        "    deriviative and the sign of the derivative determines the type of the\r\n",
        "    state.\r\n",
        "\r\n",
        "    Parameters:\r\n",
        "    ----------\r\n",
        "    jacobian : callable\r\n",
        "      Function to evaluate the Jacobian.\r\n",
        "    point: float\r\n",
        "      Point of interest, for determining the stability.\r\n",
        "    \r\n",
        "    Returns:\r\n",
        "    ----------\r\n",
        "    A string that gives information about the stability of the state.\r\n",
        "    \"\"\"\r\n",
        "    if jacobian(point) < 0:\r\n",
        "      return 'stable'\r\n",
        "    if jacobian(point) > 0:\r\n",
        "      return 'unstable'\r\n",
        "    return 'saddle'"
      ],
      "execution_count": 4,
      "outputs": []
    },
    {
      "cell_type": "code",
      "metadata": {
        "id": "JOQfC-H1hMEU"
      },
      "source": [
        "def bifurcation_diagram(fun_jacob, step=0.001, alpha_min=-1, alpha_max=5):\n",
        "    \"\"\" Creating the bifurcation diagram for a model specified by a function.\n",
        "    \n",
        "    Parameters:\n",
        "    ----------\n",
        "    fun_jacob : 2-tuple of callables\n",
        "      The model that the bifurcations is dedicated to. And the jacobian of\n",
        "      the model. \n",
        "    step : float \n",
        "      Defines the step size of the discretization for evaluating the model\n",
        "    alpha_min : float\n",
        "      The smallest value, alpha (a model parameter) can take\n",
        "    alpha_max: flaot\n",
        "      The largest value, alpha (a model parameter) can take\n",
        "\n",
        "    Returns:\n",
        "    ----------\n",
        "    Alpha : list\n",
        "      A list of all the encoutered parameter values. Which parameters \n",
        "      are used depends on the step size.\n",
        "    X : list\n",
        "      A list of all the equilibrium points of the model depending on the \n",
        "      parameter value.\n",
        "    \"\"\"\n",
        "    Alpha_stable, Alpha_unstable, Alpha_saddle = [], [], []\n",
        "    X_stable, X_unstable, X_saddle = [], [], []\n",
        "    fun, jacobian = fun_jacob\n",
        "    \n",
        "    for alpha in np.linspace(alpha_min, alpha_max, int((alpha_max - alpha_min)/step) + 1):\n",
        "        for start in np.linspace(-2, 2, 11):\n",
        "          # solving the model for its root to get the equilibria\n",
        "          sol = fsolve(fun, start, args=[alpha], full_output=True)\n",
        "          if sol[-2] == 1:\n",
        "            for s in sol[0]:\n",
        "              stabil = stability(jacobian, s)\n",
        "              if stabil == 'stable':\n",
        "                Alpha_stable.append(alpha)\n",
        "                X_stable.append(s)\n",
        "              elif stabil == 'unstable':\n",
        "                Alpha_unstable.append(alpha)\n",
        "                X_unstable.append(s)\n",
        "              elif stabil == 'saddle':\n",
        "                Alpha_saddle.append(alpha)\n",
        "                X_saddle.append(s)\n",
        "    return (Alpha_stable, Alpha_unstable, Alpha_saddle), (X_stable, X_unstable, X_saddle) \n",
        "\n",
        "alpha_min, alpha_max = -1, 1\n",
        "Alpha, X = bifurcation_diagram((dynamical_model1, jacobian_model1), step=0.0001, alpha_min=alpha_min, alpha_max=alpha_max)"
      ],
      "execution_count": 5,
      "outputs": []
    },
    {
      "cell_type": "code",
      "metadata": {
        "id": "lPnz2yNJvvDV"
      },
      "source": [
        "def plot(ax, Alpha, X, ylim, xlim):\r\n",
        "    \"\"\"\r\n",
        "    Plotting for specific cases occuring in this notebook.\r\n",
        "\r\n",
        "    Parameters:\r\n",
        "    ----------\r\n",
        "    ax : Axes object\r\n",
        "      The plotting environment, where the plot should lay on\r\n",
        "    Alpha : list\r\n",
        "      List of all encountered parameter values that were computed from the \r\n",
        "      bifurcation diagram creation method\r\n",
        "    X : list\r\n",
        "      List of all equilibrium points that were computed depending on\r\n",
        "      the parameter value at the respective position in the Alpha list\r\n",
        "    ylim : 2-tuple of floats\r\n",
        "      Axes limits in y-direction\r\n",
        "    xlim : 2-tuple of floats\r\n",
        "      Axes limits in x-direction\r\n",
        "\r\n",
        "    Returns:\r\n",
        "    ---------- \r\n",
        "    \"\"\"\r\n",
        "    ax.plot(Alpha, X, ls='', marker='o')\r\n",
        "    ax.set_ylim(ylim[0], ylim[1])\r\n",
        "    ax.set_xlim(xlim[0], xlim[1])\r\n",
        "    ax.set_xlabel('alpha')\r\n",
        "    ax.set_ylabel('X')"
      ],
      "execution_count": 6,
      "outputs": []
    },
    {
      "cell_type": "code",
      "metadata": {
        "id": "IHUZVeiNDDeB"
      },
      "source": [
        "def plot_stability(ax, Alpha, X, xlim, ylim=None):\r\n",
        "    \"\"\"\r\n",
        "    Plotting the equilibria depending on their stability\r\n",
        "\r\n",
        "    Parameters:\r\n",
        "    ----------\r\n",
        "    ax : Axes object\r\n",
        "      The plotting environment, where the plot should lay on\r\n",
        "    Alpha : 3-tuple of lists\r\n",
        "      Giving three lists of parameter values depending on the stability\r\n",
        "      of there respective equilibrium value computed for the bifurcation\r\n",
        "      diagram.\r\n",
        "    X : 3-tuple of lists\r\n",
        "      Giving three lists of equilibirum values depending on the stability.\r\n",
        "      The equilibria were computed dependent on the parameter value at the \r\n",
        "      repective position in the corresponding Alpha list.\r\n",
        "    xlim : 2-tuple of floats\r\n",
        "      Axes limits in x-direction\r\n",
        "    ylim : 2-tuple of floats\r\n",
        "      Axes limits in y-direction, can be omitted. In this case, the\r\n",
        "      limits will be the minimum and the maximum of all occuring\r\n",
        "      equilibrium values.\r\n",
        "    \r\n",
        "    Returns:\r\n",
        "    ----------\r\n",
        "    \"\"\"\r\n",
        "    Alpha_stable, Alpha_unstable, Alpha_saddle = Alpha\r\n",
        "    X_stable, X_unstable, X_saddle = X\r\n",
        "\r\n",
        "    if not ylim:\r\n",
        "      ylim = (min(X_stable + X_unstable + X_saddle), max(X_stable + X_unstable + X_saddle))\r\n",
        "    \r\n",
        "    plot(ax, Alpha_stable, X_stable, ylim, xlim)\r\n",
        "    plot(ax, Alpha_unstable, X_unstable, ylim, xlim)\r\n",
        "    plot(ax, Alpha_saddle, X_saddle, ylim, xlim)"
      ],
      "execution_count": 7,
      "outputs": []
    },
    {
      "cell_type": "code",
      "metadata": {
        "colab": {
          "base_uri": "https://localhost:8080/",
          "height": 338
        },
        "id": "i7ZHfxV6uq-5",
        "outputId": "bf3f9acb-454d-48cc-d48b-f7d0d342c31b"
      },
      "source": [
        "# Plotting the bifurcation diagram for the model that should\r\n",
        "# be computed\r\n",
        "fig = plt.figure(figsize=(5,5))\r\n",
        "ax = fig.add_subplot()\r\n",
        "plot_stability(ax, Alpha, X, (alpha_min, alpha_max))\r\n",
        "fig.show()"
      ],
      "execution_count": 8,
      "outputs": [
        {
          "output_type": "display_data",
          "data": {
            "image/png": "[encoded data removed]",
            "text/plain": [
              "<Figure size 360x360 with 1 Axes>"
            ]
          },
          "metadata": {
            "tags": [],
            "needs_background": "light"
          }
        }
      ]
    },
    {
      "cell_type": "code",
      "metadata": {
        "id": "CQF0WxBFuTTZ"
      },
      "source": [
        "# Calculate the bifurcation diagrams for both models\r\n",
        "Alpha_small, X_small = bifurcation_diagram((dynamical_model1, jacobian_model1), step=0.0001, alpha_min=-1, alpha_max=4)\r\n",
        "Alpha_large, X_large = bifurcation_diagram((dynamical_model2, jacobian_model2), step=0.0001, alpha_min=2, alpha_max=4)"
      ],
      "execution_count": 9,
      "outputs": []
    },
    {
      "cell_type": "code",
      "metadata": {
        "colab": {
          "base_uri": "https://localhost:8080/",
          "height": 338
        },
        "id": "TY9b1GyKvnY_",
        "outputId": "0d9a30c0-dbd7-4296-cf18-a0db20069689"
      },
      "source": [
        "# Plot both bifurcation diagrams in one plot\r\n",
        "fig = plt.figure(figsize=(5,5))\r\n",
        "ax = fig.add_subplot()\r\n",
        "plot_stability(ax, Alpha_large, X_large, (-1, 4))\r\n",
        "plot_stability(ax, Alpha_small, X_small, (-1, 4))\r\n",
        "fig.show()"
      ],
      "execution_count": 10,
      "outputs": [
        {
          "output_type": "display_data",
          "data": {
            "image/png": "[encoded data removed]",
            "text/plain": [
              "<Figure size 360x360 with 1 Axes>"
            ]
          },
          "metadata": {
            "tags": [],
            "needs_background": "light"
          }
        }
      ]
    }
  ]
}