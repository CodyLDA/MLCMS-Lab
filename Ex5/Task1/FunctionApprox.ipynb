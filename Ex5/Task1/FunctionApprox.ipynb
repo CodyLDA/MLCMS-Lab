{
  "nbformat": 4,
  "nbformat_minor": 0,
  "metadata": {
    "colab": {
      "name": "FunctionApprox.ipynb",
      "provenance": [],
      "collapsed_sections": [],
      "toc_visible": true
    },
    "kernelspec": {
      "name": "python3",
      "display_name": "Python 3"
    }
  },
  "cells": [
    {
      "cell_type": "code",
      "metadata": {
        "id": "WKUyXy7sR_mX"
      },
      "source": [
        "import numpy as np\r\n",
        "import matplotlib.pyplot as plt\r\n",
        "from sklearn.metrics.pairwise import euclidean_distances"
      ],
      "execution_count": 1,
      "outputs": []
    },
    {
      "cell_type": "markdown",
      "metadata": {
        "id": "Y7l6ghG7uMUp"
      },
      "source": [
        "### Linear"
      ]
    },
    {
      "cell_type": "code",
      "metadata": {
        "id": "_gfX9jAASu6d"
      },
      "source": [
        "def approxLinear(X, Y):\r\n",
        "  '''\r\n",
        "  Calculating an approximation for the linear map for Y = AX\r\n",
        "\r\n",
        "  Params:\r\n",
        "  -------\r\n",
        "  X : data matrix consisting of the regression data\r\n",
        "  Y : labels of the data points in X\r\n",
        "\r\n",
        "  Returns:\r\n",
        "  --------\r\n",
        "  A : an approximation for the linear regression map\r\n",
        "  '''\r\n",
        "  return np.linalg.lstsq(X, Y, rcond=None)[0].T"
      ],
      "execution_count": 2,
      "outputs": []
    },
    {
      "cell_type": "markdown",
      "metadata": {
        "id": "-cLnNWZcuQIW"
      },
      "source": [
        "### Nonlinear"
      ]
    },
    {
      "cell_type": "code",
      "metadata": {
        "id": "VRReRFtEvK9R"
      },
      "source": [
        "def radialFunction(center, X, eps):\r\n",
        "  '''\r\n",
        "  Calculating the radialfunction on data centered around the center point \r\n",
        "\r\n",
        "  Params:\r\n",
        "  -------\r\n",
        "  center : the center of the radial function in which it takes its max\r\n",
        "  X : data on which the function should be applied to\r\n",
        "  eps : the bandwidth of the function\r\n",
        "\r\n",
        "  Returns:\r\n",
        "  --------\r\n",
        "  function values after applying the radial function\r\n",
        "  '''\r\n",
        "  \r\n",
        "  return np.exp(-euclidean_distances(X, [center]) ** 2 / eps ** 2)"
      ],
      "execution_count": 3,
      "outputs": []
    },
    {
      "cell_type": "code",
      "metadata": {
        "id": "b5hZBcVhd--i"
      },
      "source": [
        "def radialBase(num_basis, X, eps):\r\n",
        "  '''\r\n",
        "  Computing the radial base functions\r\n",
        "\r\n",
        "  Params:\r\n",
        "  -------\r\n",
        "  num_basis : how many basis functions to use\r\n",
        "  X : data from which the center points are drawn\r\n",
        "  eps : the bandwidth of the radial functions\r\n",
        "\r\n",
        "  Returns:\r\n",
        "  --------\r\n",
        "  list of radial functions which form the radial base\r\n",
        "  '''\r\n",
        "  \r\n",
        "  centers = np.random.RandomState(seed=42).permutation(len(X))[:num_basis]\r\n",
        "  base_functions = [lambda new_data, center = center: radialFunction(center, new_data, eps) for center in X[centers]]\r\n",
        "  return base_functions"
      ],
      "execution_count": 4,
      "outputs": []
    },
    {
      "cell_type": "code",
      "metadata": {
        "id": "gkNVwLDzuJ6u"
      },
      "source": [
        "def radialBasis_transform(base, X):\r\n",
        "  '''\r\n",
        "  Computing the transformation of the data with the radial base\r\n",
        "\r\n",
        "  Params:\r\n",
        "  -------\r\n",
        "  base : a radial base computed with radialBase\r\n",
        "  X : the data on which the base transform should be applied to\r\n",
        "\r\n",
        "  Returns:\r\n",
        "  --------\r\n",
        "  the transformed data\r\n",
        "  '''\r\n",
        "  \r\n",
        "  return np.asarray([basis(X) for basis in base]).T[0]"
      ],
      "execution_count": 5,
      "outputs": []
    },
    {
      "cell_type": "code",
      "metadata": {
        "id": "6hLNMcVEuEmE"
      },
      "source": [
        "def approxNonLinear(X, Y, num_basis, eps):\r\n",
        "  '''\r\n",
        "  Calculating the approximation of a nonlinear mapping using radial bases \r\n",
        "\r\n",
        "  Params:\r\n",
        "  -------\r\n",
        "  X : data matrix consisting of the regression data\r\n",
        "  Y : labels of the data points in X\r\n",
        "  num_basis : how many basis functions to use\r\n",
        "  eps : the bandwidth of the radial functions\r\n",
        "\r\n",
        "  Returns:\r\n",
        "  --------\r\n",
        "  an approximation to the coefficients to the basis functions and the base transform itself\r\n",
        "  '''\r\n",
        "  \r\n",
        "  \r\n",
        "  base = radialBase(num_basis, X, eps)\r\n",
        "  applied_radial_functions = radialBasis_transform(base, X)\r\n",
        "\r\n",
        "  return np.linalg.lstsq(applied_radial_functions, Y, rcond=None)[0].T, base"
      ],
      "execution_count": 6,
      "outputs": []
    },
    {
      "cell_type": "markdown",
      "metadata": {
        "id": "wzJ4Ac_mW64m"
      },
      "source": [
        "# Task 1\r\n",
        "---"
      ]
    },
    {
      "cell_type": "code",
      "metadata": {
        "id": "MZXv5-QJW5dk"
      },
      "source": [
        "def loadData(filename):\r\n",
        "  '''\r\n",
        "  Loading data from the given files\r\n",
        "\r\n",
        "  Params:\r\n",
        "  -------\r\n",
        "  filename : name of the file that contains the data\r\n",
        "\r\n",
        "  Returns:\r\n",
        "  --------\r\n",
        "  X, Y : the data that is considered in this task\r\n",
        "  '''\r\n",
        "  \r\n",
        "  with open(f'{filename}.txt', 'r') as f:\r\n",
        "    data = np.loadtxt(f)\r\n",
        "  \r\n",
        "    X = data[:, 0].reshape(-1, 1)\r\n",
        "    Y = data[:, 1].reshape(-1, 1)\r\n",
        "    return X, Y"
      ],
      "execution_count": 7,
      "outputs": []
    },
    {
      "cell_type": "code",
      "metadata": {
        "id": "n4K6QJWTXc62"
      },
      "source": [
        "def plotData(X, Y, transformation, radial=False):\r\n",
        "  '''\r\n",
        "  Plotting the original data from the data set and plotting the fitted line\r\n",
        "  based on if it was a linear transform or a radial basis transform\r\n",
        "\r\n",
        "  Params:\r\n",
        "  -------\r\n",
        "  X : data matrix consisting of the regression data\r\n",
        "  Y : labels of the data points in X\r\n",
        "  transformation : the map that is computed in the regression steps\r\n",
        "  radial : if True, the radial basis transform was used otherwise it was \r\n",
        "            a linear mapping\r\n",
        "\r\n",
        "  Returns:\r\n",
        "  --------\r\n",
        "  '''\r\n",
        "  fig = plt.figure()\r\n",
        "  ax = fig.add_subplot()\r\n",
        "  ax.plot(X, Y, 'o', label='Original data', markersize=5)\r\n",
        "\r\n",
        "  plotting_test = np.linspace(min(X), max(X), 5000)\r\n",
        "  if radial:\r\n",
        "    coeff, base = transformation\r\n",
        "    ax.plot(plotting_test, radialBasis_transform(base, plotting_test.reshape(-1, 1)) @ coeff.T, 'r', label='Fitted line')\r\n",
        "  else:\r\n",
        "    ax.plot(plotting_test, plotting_test.reshape(-1, 1) @ transformation.T, 'r', label='Fitted line')\r\n",
        "  ax.set_xlabel('x')\r\n",
        "  ax.set_ylabel('y')\r\n",
        "\r\n",
        "  plt.legend()\r\n",
        "  plt.show()"
      ],
      "execution_count": 8,
      "outputs": []
    },
    {
      "cell_type": "markdown",
      "metadata": {
        "id": "ldRidOW3iaz0"
      },
      "source": [
        "### First part\r\n",
        "---"
      ]
    },
    {
      "cell_type": "code",
      "metadata": {
        "id": "MCZ0bF5VjAL4"
      },
      "source": [
        "X_part1, Y_part1 = loadData('linear_function_data') # loading the data"
      ],
      "execution_count": 9,
      "outputs": []
    },
    {
      "cell_type": "code",
      "metadata": {
        "id": "_qQe1FsbcZXi"
      },
      "source": [
        "lin_transform_part1 = approxLinear(X_part1, Y_part1) # approximate with linear map"
      ],
      "execution_count": 10,
      "outputs": []
    },
    {
      "cell_type": "code",
      "metadata": {
        "colab": {
          "base_uri": "https://localhost:8080/",
          "height": 279
        },
        "id": "6DHLL1bDgt6s",
        "outputId": "c4ba43e8-d61f-4fe7-fc75-b10011f6fb3a"
      },
      "source": [
        "plotData(X_part1, Y_part1, lin_transform_part1) # showing result of approximation"
      ],
      "execution_count": 11,
      "outputs": [
        {
          "output_type": "display_data",
          "data": {
            "image/png": "[encoded data removed]",
            "text/plain": [
              "<Figure size 432x288 with 1 Axes>"
            ]
          },
          "metadata": {
            "tags": [],
            "needs_background": "light"
          }
        }
      ]
    },
    {
      "cell_type": "markdown",
      "metadata": {
        "id": "heRFgXzSj1r9"
      },
      "source": [
        "### Second part\r\n",
        "---"
      ]
    },
    {
      "cell_type": "code",
      "metadata": {
        "id": "pVjOU7Abj0gN"
      },
      "source": [
        "X_part2, Y_part2 = loadData('nonlinear_function_data') # loading data"
      ],
      "execution_count": 12,
      "outputs": []
    },
    {
      "cell_type": "code",
      "metadata": {
        "id": "is3dgg14kAT3"
      },
      "source": [
        "fitted_part2 = approxLinear(X_part2, Y_part2) # approximate with linear map"
      ],
      "execution_count": 13,
      "outputs": []
    },
    {
      "cell_type": "code",
      "metadata": {
        "colab": {
          "base_uri": "https://localhost:8080/",
          "height": 279
        },
        "id": "L3GTxvbtkEk4",
        "outputId": "9b59117f-8bc7-4be2-dcaa-48b8c2b5b159"
      },
      "source": [
        "plotData(X_part2, Y_part2, fitted_part2) # showing approximation result"
      ],
      "execution_count": 14,
      "outputs": [
        {
          "output_type": "display_data",
          "data": {
            "image/png": "[encoded data removed]",
            "text/plain": [
              "<Figure size 432x288 with 1 Axes>"
            ]
          },
          "metadata": {
            "tags": [],
            "needs_background": "light"
          }
        }
      ]
    },
    {
      "cell_type": "markdown",
      "metadata": {
        "id": "0hzsTLiKt52i"
      },
      "source": [
        "### Third part\r\n",
        "---"
      ]
    },
    {
      "cell_type": "code",
      "metadata": {
        "id": "qu7_y7aYt44J"
      },
      "source": [
        "X_part3, Y_part3 = loadData('nonlinear_function_data') # loading data"
      ],
      "execution_count": 15,
      "outputs": []
    },
    {
      "cell_type": "code",
      "metadata": {
        "id": "3fsjblzu0wDF"
      },
      "source": [
        "eps_part3 = 2 # setting a bandwidth manually since the function seems to be smooth\r\n",
        "coeff, base = approxNonLinear(X_part3, Y_part3, 10, eps_part3) \r\n",
        "# calculating the base transform and the coeff for the nonlinear map "
      ],
      "execution_count": 16,
      "outputs": []
    },
    {
      "cell_type": "code",
      "metadata": {
        "colab": {
          "base_uri": "https://localhost:8080/",
          "height": 279
        },
        "id": "EGh9EkDrcVth",
        "outputId": "95a4d30c-adf3-4aa0-fed2-7887d75f3cd8"
      },
      "source": [
        "plotData(X_part3, Y_part3, (coeff, base), radial=True) # showing the approximation results"
      ],
      "execution_count": 17,
      "outputs": [
        {
          "output_type": "display_data",
          "data": {
            "image/png": "[encoded data removed]",
            "text/plain": [
              "<Figure size 432x288 with 1 Axes>"
            ]
          },
          "metadata": {
            "tags": [],
            "needs_background": "light"
          }
        }
      ]
    }
  ]
}