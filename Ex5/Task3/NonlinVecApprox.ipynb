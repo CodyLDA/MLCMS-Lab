{
 "cells": [
  {
   "cell_type": "code",
   "execution_count": 1,
   "metadata": {
    "id": "BLj71vXs4ZeP"
   },
   "outputs": [],
   "source": [
    "import numpy as np\n",
    "import matplotlib.pyplot as plt\n",
    "from sklearn.metrics.pairwise import euclidean_distances\n",
    "from scipy.spatial import distance\n",
    "from scipy.integrate import solve_ivp\n",
    "from sklearn.metrics import mean_squared_error"
   ]
  },
  {
   "cell_type": "markdown",
   "metadata": {},
   "source": [
    "## Linear Approximation"
   ]
  },
  {
   "cell_type": "code",
   "execution_count": 2,
   "metadata": {
    "id": "1pJFo8am4UFY"
   },
   "outputs": [],
   "source": [
    "def approxLinear(X, Y):\n",
    "  return np.linalg.lstsq(X, Y, rcond=None)[0].T"
   ]
  },
  {
   "cell_type": "markdown",
   "metadata": {},
   "source": [
    "## Nonlinear Approximation (with Radial Basis Functions)"
   ]
  },
  {
   "cell_type": "code",
   "execution_count": 3,
   "metadata": {},
   "outputs": [],
   "source": [
    "def radialFunction(center, X, eps):\n",
    "  return np.exp(-euclidean_distances(X, [center]) ** 2 / eps ** 2)"
   ]
  },
  {
   "cell_type": "code",
   "execution_count": 4,
   "metadata": {},
   "outputs": [],
   "source": [
    "def radialBase(num_basis, X):\n",
    "  centers = np.random.RandomState(seed=42).permutation(len(X))[:num_basis]\n",
    "  return X[centers]"
   ]
  },
  {
   "cell_type": "code",
   "execution_count": 5,
   "metadata": {},
   "outputs": [],
   "source": [
    "def radialBasis(base, X, eps):\n",
    "  test = []\n",
    "  for center in base:\n",
    "    test.append(radialFunction(center, X, eps))\n",
    "  test = np.asarray(test)\n",
    "  return test.T[0]"
   ]
  },
  {
   "cell_type": "code",
   "execution_count": 6,
   "metadata": {},
   "outputs": [],
   "source": [
    "def approxNonLinear(X, Y, num_basis, eps):\n",
    "  \n",
    "  base = radialBase(num_basis, X)\n",
    "  radial_functions = radialBasis(base, X, eps)\n",
    "\n",
    "  return np.linalg.lstsq(radial_functions, Y, rcond=None)[0].T, base"
   ]
  },
  {
   "cell_type": "code",
   "execution_count": 39,
   "metadata": {},
   "outputs": [],
   "source": [
    "def findNumCenters(x0, x1):\n",
    "  # Tune the number of centers\n",
    "  search = np.linspace(100, 1000, 50)[:-1]\n",
    "  search = np.concatenate((search,[1000]))\n",
    "  eps = 2\n",
    "  best = 0.1, np.inf, None, None\n",
    "  for center_num in search:\n",
    "    coeff, base = approxNonLinear(x0, vec, int(center_num), eps)\n",
    "    err = mse(x1, x0 + radialBasis(base, x0, eps) @ coeff.T * 0.1)\n",
    "\n",
    "    if err < best[1]:\n",
    "      best = int(center_num), err, coeff, base\n",
    "  \n",
    "  return best"
   ]
  },
  {
   "cell_type": "markdown",
   "metadata": {},
   "source": [
    "## Read data"
   ]
  },
  {
   "cell_type": "code",
   "execution_count": 7,
   "metadata": {
    "id": "EoNm2eVy4pjy"
   },
   "outputs": [],
   "source": [
    "def loadVecData(file_x0, file_x1):\n",
    "  x0 = open(f'{file_x0}.txt', 'r')\n",
    "  x1 = open(f'{file_x1}.txt', 'r')\n",
    "\n",
    "  x0_data = np.loadtxt(x0)\n",
    "  x1_data = np.loadtxt(x1)\n",
    "\n",
    "  x0.close()\n",
    "  x1.close()\n",
    "  return x0_data, x1_data"
   ]
  },
  {
   "cell_type": "markdown",
   "metadata": {},
   "source": [
    "## Generate difference vector (for the estimation)"
   ]
  },
  {
   "cell_type": "code",
   "execution_count": 8,
   "metadata": {
    "id": "PtHLHfAD6RPq"
   },
   "outputs": [],
   "source": [
    "def generateVector(x0, x1, timestep):\n",
    "  return (x1 - x0) / timestep "
   ]
  },
  {
   "cell_type": "markdown",
   "metadata": {},
   "source": [
    "## Calculate MSE"
   ]
  },
  {
   "cell_type": "code",
   "execution_count": 9,
   "metadata": {
    "id": "voZXdH8exU9Q"
   },
   "outputs": [],
   "source": [
    "def mse(real_data, predicted_data):\n",
    "  return np.linalg.norm(real_data - predicted_data) ** 2 / len(real_data)"
   ]
  },
  {
   "cell_type": "markdown",
   "metadata": {},
   "source": [
    "## Callables for the equations to be solved by the solve_ivp (linear and nonlinear)"
   ]
  },
  {
   "cell_type": "code",
   "execution_count": 10,
   "metadata": {},
   "outputs": [],
   "source": [
    "def stepFunc(t, x0):\n",
    "\n",
    "    return (x0.reshape(-1,2) @ func.T)"
   ]
  },
  {
   "cell_type": "code",
   "execution_count": 30,
   "metadata": {},
   "outputs": [],
   "source": [
    "def nonlinStepFunc(t, x0):\n",
    "    return (radialBasis(best[3], x0, 2) @ best[2].T)"
   ]
  },
  {
   "cell_type": "markdown",
   "metadata": {},
   "source": [
    "## Part 1: Linear Approximation of the Data"
   ]
  },
  {
   "cell_type": "code",
   "execution_count": 11,
   "metadata": {
    "id": "UfHTi1FI51Pg"
   },
   "outputs": [],
   "source": [
    "x0, x1 = loadVecData('nonlinear_vectorfield_data_x0', 'nonlinear_vectorfield_data_x1')"
   ]
  },
  {
   "cell_type": "code",
   "execution_count": 12,
   "metadata": {
    "id": "3hdGUwDxG3QM"
   },
   "outputs": [],
   "source": [
    "vec = generateVector(x0, x1, 0.1)"
   ]
  },
  {
   "cell_type": "code",
   "execution_count": 13,
   "metadata": {
    "id": "suWiCmTLHmah"
   },
   "outputs": [],
   "source": [
    "func = approxLinear(x0, vec)"
   ]
  },
  {
   "cell_type": "code",
   "execution_count": 14,
   "metadata": {
    "id": "DIeRKc_SHxBF"
   },
   "outputs": [
    {
     "data": {
      "text/plain": [
       "array([[-0.10016012, -0.00253494],\n",
       "       [ 0.00867272, -0.43267138]])"
      ]
     },
     "execution_count": 14,
     "metadata": {},
     "output_type": "execute_result"
    }
   ],
   "source": [
    "func"
   ]
  },
  {
   "cell_type": "code",
   "execution_count": 15,
   "metadata": {},
   "outputs": [
    {
     "data": {
      "text/plain": [
       "0.037270081174962"
      ]
     },
     "execution_count": 15,
     "metadata": {},
     "output_type": "execute_result"
    }
   ],
   "source": [
    "err = mse(x1, x0 + x0 @ func.T * 0.1)\n",
    "err"
   ]
  },
  {
   "cell_type": "code",
   "execution_count": 17,
   "metadata": {},
   "outputs": [
    {
     "data": {
      "text/plain": [
       "(2000, 2)"
      ]
     },
     "execution_count": 17,
     "metadata": {},
     "output_type": "execute_result"
    }
   ],
   "source": [
    "x0.shape"
   ]
  },
  {
   "cell_type": "code",
   "execution_count": 19,
   "metadata": {},
   "outputs": [],
   "source": [
    "x1_ = np.ones_like(x0)\n",
    "for coord in range(x0.shape[0]):\n",
    "    x1_Est = solve_ivp(stepFunc, (0,1), x0[coord,:], t_eval=[0.1])\n",
    "    x1_[coord,:] = x1_Est.y[0][0], x1_Est.y[1][0]"
   ]
  },
  {
   "cell_type": "code",
   "execution_count": 20,
   "metadata": {},
   "outputs": [
    {
     "data": {
      "text/plain": [
       "0.03727581841318617"
      ]
     },
     "execution_count": 20,
     "metadata": {},
     "output_type": "execute_result"
    }
   ],
   "source": [
    "err = mse(x1, x1_)\n",
    "err"
   ]
  },
  {
   "cell_type": "code",
   "execution_count": 21,
   "metadata": {},
   "outputs": [
    {
     "data": {
      "image/png": "[encoded data removed]",
      "text/plain": [
       "<Figure size 432x288 with 1 Axes>"
      ]
     },
     "metadata": {
      "needs_background": "light"
     },
     "output_type": "display_data"
    }
   ],
   "source": [
    "plt.scatter(x1[:,0], x1[:,1], c='b')\n",
    "plt.scatter(x1_[:,0], x1_[:,1], c='r')\n",
    "plt.show()"
   ]
  },
  {
   "cell_type": "markdown",
   "metadata": {},
   "source": [
    "## Part 2: Nonlinear Approximation (Radial Basis functions)"
   ]
  },
  {
   "cell_type": "code",
   "execution_count": 26,
   "metadata": {},
   "outputs": [
    {
     "name": "stdout",
     "output_type": "stream",
     "text": [
      "Error = 1.420894324561071e-13\n",
      "Best number of centers = 1000\n"
     ]
    }
   ],
   "source": [
    "best = findNumCenters(x0, x1)\n",
    "print(\"Error = \"+str(best[1]))\n",
    "print(\"Best number of centers = \"+str(best[0]))"
   ]
  },
  {
   "cell_type": "code",
   "execution_count": 27,
   "metadata": {},
   "outputs": [
    {
     "data": {
      "image/png": "[encoded data removed]",
      "text/plain": [
       "<Figure size 432x288 with 1 Axes>"
      ]
     },
     "metadata": {
      "needs_background": "light"
     },
     "output_type": "display_data"
    }
   ],
   "source": [
    "x_1 = x0 + radialBasis(best[3], x0, 2) @ best[2].T * 0.1\n",
    "plt.scatter(x1[:,0], x1[:,1], c='b')\n",
    "plt.scatter(x_1[:,0], x_1[:,1], c='r')\n",
    "plt.show()"
   ]
  },
  {
   "cell_type": "markdown",
   "metadata": {},
   "source": [
    "## Part 3: Find steady states of the system"
   ]
  },
  {
   "cell_type": "code",
   "execution_count": 31,
   "metadata": {},
   "outputs": [],
   "source": [
    "# Run the system for 250 time steps\n",
    "timeSteps = 250\n",
    "x1_ = np.ones((x0.shape[0], x0.shape[1], timeSteps))\n",
    "x1_[:,:, 0] = x0\n",
    "\n",
    "for t in range(1,timeSteps):\n",
    "    x1_Est =  x1_[:,:, t-1] + nonlinStepFunc(t, x1_[:,:, t-1]) * 0.1\n",
    "    x1_[:,:, t] = x1_Est"
   ]
  },
  {
   "cell_type": "code",
   "execution_count": 32,
   "metadata": {},
   "outputs": [
    {
     "data": {
      "image/png": "[encoded data removed]",
      "text/plain": [
       "<Figure size 432x288 with 1 Axes>"
      ]
     },
     "metadata": {
      "needs_background": "light"
     },
     "output_type": "display_data"
    }
   ],
   "source": [
    "plt.scatter(x1_[:,0,249], x1_[:,1,249], c='b')\n",
    "plt.show()"
   ]
  },
  {
   "cell_type": "code",
   "execution_count": 35,
   "metadata": {},
   "outputs": [
    {
     "data": {
      "text/plain": [
       "<matplotlib.collections.PathCollection at 0x1ec3e1c8610>"
      ]
     },
     "execution_count": 35,
     "metadata": {},
     "output_type": "execute_result"
    },
    {
     "data": {
      "image/png": "[encoded data removed]",
      "text/plain": [
       "<Figure size 432x288 with 1 Axes>"
      ]
     },
     "metadata": {
      "needs_background": "light"
     },
     "output_type": "display_data"
    }
   ],
   "source": [
    "# Save the coordinates of steady states\n",
    "ss = np.ones((4,2))\n",
    "k = 0\n",
    "for sample in x1_[:,:,249]:\n",
    "    same = False\n",
    "    for i in range(k):\n",
    "        if abs(ss[i,0] - sample[0]) < 0.01 :\n",
    "            same = True\n",
    "    if not(same):\n",
    "        ss[k,:] = sample\n",
    "        k +=1\n",
    "plt.scatter(ss[:,0], ss[:,1], c='b')"
   ]
  },
  {
   "cell_type": "code",
   "execution_count": 37,
   "metadata": {},
   "outputs": [],
   "source": [
    "# Run the system for 250 timesteps for the steady state points\n",
    "timeSteps = 250\n",
    "x1_ = np.ones((ss.shape[0], ss.shape[1], timeSteps))\n",
    "x1_[:,:, 0] = ss\n",
    "\n",
    "for t in range(1,timeSteps):\n",
    "    x1_Est =  x1_[:,:, t-1] + nonlinStepFunc(t, x1_[:,:, t-1]) * 0.1\n",
    "    x1_[:,:, t] = x1_Est"
   ]
  },
  {
   "cell_type": "code",
   "execution_count": 38,
   "metadata": {},
   "outputs": [],
   "source": [
    "# Check if the points change the value at some point \n",
    "for sample in range(x1_.shape[0]):\n",
    "    steady = True\n",
    "    for t in range(1,x1_.shape[2]):\n",
    "        if abs(x1_[sample,0,t-1] - x1_[sample,0,t]) > 1e-5 or abs(x1_[sample,1,t-1] - x1_[sample,1,t])> 1e-5:\n",
    "            steady = False\n",
    "    if not(steady):\n",
    "        print(x1_[sample,:,0])\n",
    "        print(\"NOT STEADY\")"
   ]
  }
 ],
 "metadata": {
  "colab": {
   "name": "LinVecApprox.ipynb",
   "provenance": []
  },
  "kernelspec": {
   "display_name": "Python 3",
   "language": "python",
   "name": "python3"
  },
  "language_info": {
   "codemirror_mode": {
    "name": "ipython",
    "version": 3
   },
   "file_extension": ".py",
   "mimetype": "text/x-python",
   "name": "python",
   "nbconvert_exporter": "python",
   "pygments_lexer": "ipython3",
   "version": "3.8.6"
  }
 },
 "nbformat": 4,
 "nbformat_minor": 1
}
