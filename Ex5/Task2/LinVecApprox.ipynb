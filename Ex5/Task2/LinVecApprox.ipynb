{
  "nbformat": 4,
  "nbformat_minor": 0,
  "metadata": {
    "colab": {
      "name": "LinVecApprox.ipynb",
      "provenance": []
    },
    "kernelspec": {
      "name": "python3",
      "display_name": "Python 3"
    }
  },
  "cells": [
    {
      "cell_type": "code",
      "metadata": {
        "id": "BLj71vXs4ZeP"
      },
      "source": [
        "import numpy as np\r\n",
        "import matplotlib.pyplot as plt\r\n",
        "from sklearn.metrics.pairwise import euclidean_distances\r\n",
        "from scipy.spatial import distance\r\n",
        "from sklearn.metrics import mean_squared_error"
      ],
      "execution_count": 1,
      "outputs": []
    },
    {
      "cell_type": "code",
      "metadata": {
        "id": "1pJFo8am4UFY"
      },
      "source": [
        "def approxLinear(X, Y):\r\n",
        "  return np.linalg.lstsq(X, Y, rcond=None)[0].T"
      ],
      "execution_count": 2,
      "outputs": []
    },
    {
      "cell_type": "code",
      "metadata": {
        "id": "EoNm2eVy4pjy"
      },
      "source": [
        "def loadVecData(file_x0, file_x1):\r\n",
        "  x0 = open(f'{file_x0}.txt', 'r')\r\n",
        "  x1 = open(f'{file_x1}.txt', 'r')\r\n",
        "\r\n",
        "  x0_data = np.loadtxt(x0)\r\n",
        "  x1_data = np.loadtxt(x1)\r\n",
        "\r\n",
        "  x0.close()\r\n",
        "  x1.close()\r\n",
        "  return x0_data, x1_data"
      ],
      "execution_count": 3,
      "outputs": []
    },
    {
      "cell_type": "code",
      "metadata": {
        "id": "PtHLHfAD6RPq"
      },
      "source": [
        "def generateVector(x0, x1, timestep):\r\n",
        "  return (x1 - x0) / timestep "
      ],
      "execution_count": 4,
      "outputs": []
    },
    {
      "cell_type": "code",
      "metadata": {
        "id": "voZXdH8exU9Q"
      },
      "source": [
        "def mse(real_data, predicted_data):\r\n",
        "  return np.linalg.norm(real_data - predicted_data) ** 2 / len(real_data)"
      ],
      "execution_count": 5,
      "outputs": []
    },
    {
      "cell_type": "code",
      "metadata": {
        "id": "UfHTi1FI51Pg"
      },
      "source": [
        "x0, x1 = loadVecData('linear_vectorfield_data_x0', 'linear_vectorfield_data_x1')"
      ],
      "execution_count": 24,
      "outputs": []
    },
    {
      "cell_type": "code",
      "metadata": {
        "id": "3hdGUwDxG3QM"
      },
      "source": [
        "vec = generateVector(x0, x1, 0.1)"
      ],
      "execution_count": 25,
      "outputs": []
    },
    {
      "cell_type": "code",
      "metadata": {
        "id": "suWiCmTLHmah"
      },
      "source": [
        "func = approxLinear(x0, vec)"
      ],
      "execution_count": 26,
      "outputs": []
    },
    {
      "cell_type": "code",
      "metadata": {
        "id": "DIeRKc_SHxBF"
      },
      "source": [
        ""
      ],
      "execution_count": null,
      "outputs": []
    },
    {
      "cell_type": "code",
      "metadata": {
        "id": "CONWuBHbm1T-"
      },
      "source": [
        "# not sure if this is what is meant\r\n",
        "\r\n",
        "def findTimeStep(x0, x1):\r\n",
        "  search = np.linspace(0.5, 0, 100)[:-1]\r\n",
        "\r\n",
        "  best = 0.1, np.inf, None, None\r\n",
        "  for step_size in search:\r\n",
        "    vec = generateVector(x0, x1, step_size)\r\n",
        "    func = approxLinear(x0, vec)\r\n",
        "    err = mse(x1, x0 + x0 @ func.T * step_size)\r\n",
        "    if err < best[1]:\r\n",
        "      best = step_size, err, func, vec\r\n",
        "  \r\n",
        "  return best"
      ],
      "execution_count": 22,
      "outputs": []
    },
    {
      "cell_type": "code",
      "metadata": {
        "colab": {
          "base_uri": "https://localhost:8080/"
        },
        "id": "DNkvLltkn4MI",
        "outputId": "5794e9a2-f7a2-4105-b525-977852483eea"
      },
      "source": [
        "findTimeStep(x0, x1)"
      ],
      "execution_count": 23,
      "outputs": [
        {
          "output_type": "execute_result",
          "data": {
            "text/plain": [
              "(0.2676767676767676, 1.0532185325778849e-16, array([[-0.18438375,  0.08663865],\n",
              "        [-0.17327735, -0.35766112]]), array([[ 0.06877679, -0.12884655],\n",
              "        [ 0.15009029,  0.31463366],\n",
              "        [ 0.05962646,  0.4140277 ],\n",
              "        ...,\n",
              "        [-0.11843112, -0.065201  ],\n",
              "        [ 0.17344541, -0.12568288],\n",
              "        [ 0.25036058, -0.15701985]]))"
            ]
          },
          "metadata": {
            "tags": []
          },
          "execution_count": 23
        }
      ]
    }
  ]
}