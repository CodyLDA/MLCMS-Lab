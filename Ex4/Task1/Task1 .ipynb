{
 "cells": [
  {
   "cell_type": "code",
   "execution_count": null,
   "metadata": {},
   "outputs": [],
   "source": [
    "import numpy as np\n",
    "import scipy\n",
    "import matplotlib.pyplot as plt\n",
    "from skimage.transform import resize\n",
    "import scipy.misc"
   ]
  },
  {
   "cell_type": "code",
   "execution_count": null,
   "metadata": {},
   "outputs": [],
   "source": [
    "def PCA_func(data, num_components):\n",
    "    mean = np.mean(data , axis = 0)\n",
    "    #print(mean)\n",
    "    \n",
    "    centred_data = data - mean\n",
    "    U,S,Vh = np.linalg.svd(centred_data, full_matrices=True)\n",
    "    \n",
    "    #print(U)\n",
    "    #print(S)\n",
    "    #print(Vh)\n",
    "    \n",
    "    U_subset=U[:,0:num_components]\n",
    "    S_subset=S[0:num_components]\n",
    "    \n",
    "    #print(S.shape)\n",
    "    #reduced_data=U[:, :S.shape[0]] * S\n",
    "    reduced_data=U_subset*S_subset\n",
    "    #print(\"reduced data\")\n",
    "    #print(reduced_data)\n",
    "    \n",
    "    principal_components = Vh[0:num_components, :]\n",
    "    #print(\"components\")\n",
    "    #print(principal_components)\n",
    "    \n",
    "    variance = np.square(S)/(data.shape[0]-1)\n",
    "    #print(\"variance\")\n",
    "    #print(variance)\n",
    "    \n",
    "    reconstructed_data = np.dot(reduced_data, principal_components) + mean\n",
    "    #print(\"reconstructed_data\")\n",
    "    #print(reconstructed_data)\n",
    "    \n",
    "    energy = np.sum(S_subset**2)/np.sum(S**2)\n",
    "    \n",
    "    return mean, S, principal_components, variance, reduced_data, reconstructed_data, energy\n",
    "    "
   ]
  },
  {
   "cell_type": "markdown",
   "metadata": {},
   "source": [
    "# Part 1"
   ]
  },
  {
   "cell_type": "code",
   "execution_count": null,
   "metadata": {},
   "outputs": [],
   "source": [
    "fname=\"pca_dataset.txt\"\n",
    "pca_dataset=np.loadtxt(fname)\n",
    "mean, S, prin_comp, var, pca_dataset_reduced, pca_dataset_reconstructed, energy = PCA_func(pca_dataset, 2)"
   ]
  },
  {
   "cell_type": "code",
   "execution_count": null,
   "metadata": {},
   "outputs": [],
   "source": [
    "plt.scatter(pca_dataset[:, 0], pca_dataset[:, 1], alpha=0.5)\n",
    "plt.xlabel('x')\n",
    "plt.ylabel('f(x)')\n",
    "\n",
    "    \n",
    "for length, vector in zip(var, prin_comp):\n",
    "    v = vector * 3 * np.sqrt(length)\n",
    "    v1=mean\n",
    "    v2=mean+v\n",
    "    plt.plot((v1[0],v2[0]), (v1[1],v2[1]), color='black')\n",
    "    \n",
    "plt.savefig(\"Task1.png\")\n",
    "print(\"Energy contained in first component: \", S[0])\n",
    "print(\"Energy contained in second component: \", S[1])"
   ]
  },
  {
   "cell_type": "markdown",
   "metadata": {},
   "source": [
    "# Part 2\n"
   ]
  },
  {
   "cell_type": "code",
   "execution_count": null,
   "metadata": {},
   "outputs": [],
   "source": [
    "racoon = scipy.misc.face(gray=True)\n",
    "print(\"Original shape \",racoon.shape)\n",
    "racoon_resized = resize(racoon, (249, 185))\n",
    "plt.gray()\n",
    "plt.imshow(racoon_resized)\n",
    "plt.savefig(\"2_org.png\")\n",
    "plt.show()\n",
    "\n",
    "print(\"Resized shape \",racoon_resized.shape)"
   ]
  },
  {
   "cell_type": "markdown",
   "metadata": {},
   "source": [
    "## PCA with all components\n"
   ]
  },
  {
   "cell_type": "code",
   "execution_count": null,
   "metadata": {},
   "outputs": [],
   "source": [
    "_, _, _, _, _, racoon_recons_all, energy_all =PCA_func(racoon_resized.transpose(), 185)\n",
    "plt.imshow(racoon_recons_all.transpose())\n",
    "plt.savefig(\"part2_a.png\")\n",
    "plt.show()\n",
    "\n",
    "print(\"Fraction of energy contained in all components: \", energy_all)\n",
    "print(\"Percentage of energy lost in truncation: \", (1-energy_all)*100, \"%\")"
   ]
  },
  {
   "cell_type": "markdown",
   "metadata": {},
   "source": [
    "## PCA with 120 components"
   ]
  },
  {
   "cell_type": "code",
   "execution_count": null,
   "metadata": {},
   "outputs": [],
   "source": [
    "_, _, _, _, _, racoon_recons_120, energy_120 =PCA_func(racoon_resized.transpose(), 120)\n",
    "plt.imshow(racoon_recons_120.transpose())\n",
    "plt.savefig(\"part2_b.png\")\n",
    "plt.show()\n",
    "\n",
    "print(\"Fraction of energy contained in all components: \", energy_120)\n",
    "print(\"Percentage of energy lost in truncation: \", (1-energy_120)*100, \"%\")"
   ]
  },
  {
   "cell_type": "markdown",
   "metadata": {},
   "source": [
    "## PCA with 50 components"
   ]
  },
  {
   "cell_type": "code",
   "execution_count": null,
   "metadata": {},
   "outputs": [],
   "source": [
    "_, _, _, _, _, racoon_recons_50, energy_50 =PCA_func(racoon_resized.transpose(), 50)\n",
    "plt.imshow(racoon_recons_50.transpose())\n",
    "plt.savefig(\"part2_c.png\")\n",
    "plt.show()\n",
    "\n",
    "print(\"Fraction of energy contained in all components: \", energy_50)\n",
    "print(\"Percentage of energy lost in truncation: \", (1-energy_50)*100, \"%\")"
   ]
  },
  {
   "cell_type": "markdown",
   "metadata": {},
   "source": [
    "## PCA with 10 components"
   ]
  },
  {
   "cell_type": "code",
   "execution_count": null,
   "metadata": {},
   "outputs": [],
   "source": [
    "_, _, _, _, _, racoon_recons_10, energy_10 =PCA_func(racoon_resized.transpose(), 10)\n",
    "plt.imshow(racoon_recons_10.transpose())\n",
    "plt.savefig(\"part2_d.png\")\n",
    "plt.show()\n",
    "\n",
    "print(\"Fraction of energy contained in all components: \", energy_10)\n",
    "print(\"Percentage of energy lost in truncation: \", (1-energy_10)*100, \"%\")"
   ]
  },
  {
   "cell_type": "markdown",
   "metadata": {},
   "source": [
    "# Part 3"
   ]
  },
  {
   "cell_type": "code",
   "execution_count": null,
   "metadata": {},
   "outputs": [],
   "source": [
    "vadere_fname=\"data_DMAP_PCA_vadere.txt\"\n",
    "vadere_dataset=np.loadtxt(vadere_fname)\n",
    "print(vadere_dataset.shape)\n",
    "\n",
    "first_pedestrian_x = vadere_dataset[:,0]\n",
    "first_pedestrian_y = vadere_dataset[:,1]\n",
    "\n",
    "second_pedestrian_x = vadere_dataset[:,2]\n",
    "second_pedestrian_y = vadere_dataset[:,3]\n",
    "\n",
    "plt.plot(first_pedestrian_x, first_pedestrian_y)\n",
    "plt.show()\n",
    "\n",
    "plt.plot(second_pedestrian_x, second_pedestrian_y)\n",
    "plt.show()\n"
   ]
  },
  {
   "cell_type": "code",
   "execution_count": null,
   "metadata": {},
   "outputs": [],
   "source": []
  },
  {
   "cell_type": "code",
   "execution_count": null,
   "metadata": {},
   "outputs": [],
   "source": []
  },
  {
   "cell_type": "code",
   "execution_count": null,
   "metadata": {},
   "outputs": [],
   "source": [
    "mean, S, prin_comp, var, pca_dataset_optimized, recons, energy = PCA_func(vadere_dataset, 2)\n",
    "print(pca_dataset_optimized.shape)\n",
    "print(recons.shape)\n",
    "print(energy)\n",
    "plt.plot(pca_dataset_optimized[:,0], pca_dataset_optimized[:,1])"
   ]
  },
  {
   "cell_type": "code",
   "execution_count": null,
   "metadata": {},
   "outputs": [],
   "source": [
    "mean, S, prin_comp, var, pca_dataset_optimized, recons, energy = PCA_func(vadere_dataset, 3)\n",
    "print(energy)"
   ]
  },
  {
   "cell_type": "code",
   "execution_count": null,
   "metadata": {},
   "outputs": [],
   "source": []
  },
  {
   "cell_type": "code",
   "execution_count": null,
   "metadata": {},
   "outputs": [],
   "source": []
  },
  {
   "cell_type": "code",
   "execution_count": null,
   "metadata": {},
   "outputs": [],
   "source": []
  }
 ],
 "metadata": {
  "kernelspec": {
   "display_name": "Python 3",
   "language": "python",
   "name": "python3"
  },
  "language_info": {
   "codemirror_mode": {
    "name": "ipython",
    "version": 3
   },
   "file_extension": ".py",
   "mimetype": "text/x-python",
   "name": "python",
   "nbconvert_exporter": "python",
   "pygments_lexer": "ipython3",
   "version": "3.7.4"
  }
 },
 "nbformat": 4,
 "nbformat_minor": 4
}
