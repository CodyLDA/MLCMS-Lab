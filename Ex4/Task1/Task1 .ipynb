{
 "cells": [
  {
   "cell_type": "code",
   "execution_count": null,
   "metadata": {},
   "outputs": [],
   "source": [
    "import numpy as np\n",
    "import scipy\n",
    "import matplotlib.pyplot as plt\n",
    "from skimage.transform import resize\n",
    "import scipy.misc"
   ]
  },
  {
   "cell_type": "code",
   "execution_count": null,
   "metadata": {},
   "outputs": [],
   "source": [
    "def PCA_func(data, num_components):\n",
    "    mean = np.mean(data , axis = 0)\n",
    "    \n",
    "    centred_data = data - mean\n",
    "    U,S,Vh = np.linalg.svd(centred_data, full_matrices=True)\n",
    "    \n",
    "    U_subset=U[:,0:num_components]\n",
    "    S_subset=S[0:num_components]\n",
    "    \n",
    "    reduced_data=U_subset*S_subset\n",
    "    \n",
    "    principal_components = Vh[0:num_components, :]\n",
    "    \n",
    "    variance = np.square(S)/(data.shape[0]-1)\n",
    "    \n",
    "    reconstructed_data = np.dot(reduced_data, principal_components) + mean\n",
    "    \n",
    "    energy = np.sum(S_subset**2)/np.sum(S**2)\n",
    "    \n",
    "    return mean, S, principal_components, variance, reduced_data, reconstructed_data, energy\n",
    "    "
   ]
  },
  {
   "cell_type": "markdown",
   "metadata": {},
   "source": [
    "# Part 1"
   ]
  },
  {
   "cell_type": "code",
   "execution_count": null,
   "metadata": {},
   "outputs": [],
   "source": [
    "fname=\"pca_dataset.txt\"\n",
    "pca_dataset=np.loadtxt(fname)\n",
    "mean, S, prin_comp, var, pca_dataset_reduced, pca_dataset_reconstructed, energy = PCA_func(pca_dataset, 2)"
   ]
  },
  {
   "cell_type": "code",
   "execution_count": null,
   "metadata": {},
   "outputs": [],
   "source": [
    "plt.scatter(pca_dataset[:, 0], pca_dataset[:, 1], alpha=0.5)\n",
    "plt.xlabel('x')\n",
    "plt.ylabel('f(x)')\n",
    "\n",
    "    \n",
    "for length, vector in zip(var, prin_comp):\n",
    "    v = vector * 3 * np.sqrt(length)\n",
    "    v1=mean\n",
    "    v2=mean+v\n",
    "    plt.plot((v1[0],v2[0]), (v1[1],v2[1]), color='black')\n",
    "    \n",
    "#plt.savefig(\"Task1.png\")\n",
    "print(\"Energy contained in first component: \", S[0])\n",
    "print(\"Energy contained in second component: \", S[1])"
   ]
  },
  {
   "cell_type": "markdown",
   "metadata": {},
   "source": [
    "# Part 2\n"
   ]
  },
  {
   "cell_type": "code",
   "execution_count": null,
   "metadata": {},
   "outputs": [],
   "source": [
    "racoon = scipy.misc.face(gray=True)\n",
    "print(\"Original shape \",racoon.shape)\n",
    "racoon_resized = resize(racoon, (249, 185))\n",
    "plt.gray()\n",
    "plt.imshow(racoon_resized)\n",
    "#plt.savefig(\"2_org.png\")\n",
    "plt.show()\n",
    "\n",
    "print(\"Resized shape \",racoon_resized.shape)"
   ]
  },
  {
   "cell_type": "markdown",
   "metadata": {},
   "source": [
    "## (a) PCA with all components\n"
   ]
  },
  {
   "cell_type": "code",
   "execution_count": null,
   "metadata": {},
   "outputs": [],
   "source": [
    "_, _, _, _, _, racoon_recons_all, energy_all =PCA_func(racoon_resized.transpose(), 185)\n",
    "plt.imshow(racoon_recons_all.transpose())\n",
    "#plt.savefig(\"part2_a.png\")\n",
    "plt.show()\n",
    "\n",
    "print(\"Percentage of energy lost in truncation: \", (1-energy_all)*100, \"%\")"
   ]
  },
  {
   "cell_type": "markdown",
   "metadata": {},
   "source": [
    "## (b) PCA with 120 components"
   ]
  },
  {
   "cell_type": "code",
   "execution_count": null,
   "metadata": {},
   "outputs": [],
   "source": [
    "_, _, _, _, _, racoon_recons_120, energy_120 =PCA_func(racoon_resized.transpose(), 120)\n",
    "plt.imshow(racoon_recons_120.transpose())\n",
    "#plt.savefig(\"part2_b.png\")\n",
    "plt.show()\n",
    "\n",
    "print(\"Percentage of energy lost in truncation: \", (1-energy_120)*100, \"%\")"
   ]
  },
  {
   "cell_type": "markdown",
   "metadata": {},
   "source": [
    "## (c) PCA with 50 components"
   ]
  },
  {
   "cell_type": "code",
   "execution_count": null,
   "metadata": {},
   "outputs": [],
   "source": [
    "_, _, _, _, _, racoon_recons_50, energy_50 =PCA_func(racoon_resized.transpose(), 50)\n",
    "plt.imshow(racoon_recons_50.transpose())\n",
    "#plt.savefig(\"part2_c.png\")\n",
    "plt.show()\n",
    "\n",
    "print(\"Percentage of energy lost in truncation: \", (1-energy_50)*100, \"%\")"
   ]
  },
  {
   "cell_type": "markdown",
   "metadata": {},
   "source": [
    "## (d) PCA with 10 components"
   ]
  },
  {
   "cell_type": "code",
   "execution_count": null,
   "metadata": {},
   "outputs": [],
   "source": [
    "_, _, _, _, _, racoon_recons_10, energy_10 =PCA_func(racoon_resized.transpose(), 10)\n",
    "plt.imshow(racoon_recons_10.transpose())\n",
    "#plt.savefig(\"part2_d.png\")\n",
    "plt.show()\n",
    "\n",
    "print(\"Percentage of energy lost in truncation: \", (1-energy_10)*100, \"%\")"
   ]
  },
  {
   "cell_type": "markdown",
   "metadata": {},
   "source": [
    "# Part 3"
   ]
  },
  {
   "cell_type": "code",
   "execution_count": null,
   "metadata": {},
   "outputs": [],
   "source": [
    "vadere_fname=\"data_DMAP_PCA_vadere.txt\"\n",
    "vadere_dataset=np.loadtxt(vadere_fname)\n",
    "print(vadere_dataset.shape)\n",
    "\n",
    "first_pedestrian_path = vadere_dataset[:,0:2]\n",
    "\n",
    "second_pedestrian_path= vadere_dataset[:,2:4]\n",
    "\n",
    "plt.plot(first_pedestrian_path[:,0], first_pedestrian_path[:,1])\n",
    "\n",
    "plt.plot(second_pedestrian_path[:,0], second_pedestrian_path[:,1])\n",
    "#plt.savefig(\"3_paths.png\")\n",
    "plt.show()"
   ]
  },
  {
   "cell_type": "code",
   "execution_count": null,
   "metadata": {},
   "outputs": [],
   "source": [
    "_, _, _, _, vadere_optimized2, _, energy_2comp = PCA_func(vadere_dataset, 2)\n",
    "plt.plot(vadere_optimized2[:,0], vadere_optimized2[:,1])\n",
    "#plt.savefig(\"3_2comp.png\")\n",
    "plt.show()\n",
    "print(\"Energy contained in the two components: \", energy_2comp*100, \"%\")"
   ]
  },
  {
   "cell_type": "code",
   "execution_count": null,
   "metadata": {},
   "outputs": [],
   "source": [
    "_, _, _, _, vadere_optimized3, _, energy_3comp = PCA_func(vadere_dataset, 3)\n",
    "print(\"Energy contained in the three components: \", energy_3comp*100, \"%\")"
   ]
  },
  {
   "cell_type": "markdown",
   "metadata": {},
   "source": [
    "Therefore, 3 compoments are needed to capture most (>90%) of the energy."
   ]
  },
  {
   "cell_type": "code",
   "execution_count": null,
   "metadata": {},
   "outputs": [],
   "source": []
  }
 ],
 "metadata": {
  "kernelspec": {
   "display_name": "Python 3",
   "language": "python",
   "name": "python3"
  },
  "language_info": {
   "codemirror_mode": {
    "name": "ipython",
    "version": 3
   },
   "file_extension": ".py",
   "mimetype": "text/x-python",
   "name": "python",
   "nbconvert_exporter": "python",
   "pygments_lexer": "ipython3",
   "version": "3.7.4"
  }
 },
 "nbformat": 4,
 "nbformat_minor": 4
}
